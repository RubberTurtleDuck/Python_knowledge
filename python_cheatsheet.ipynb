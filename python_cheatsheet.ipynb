{
 "cells": [
  {
   "cell_type": "markdown",
   "id": "d937464b",
   "metadata": {},
   "source": [
    "## PYTHON CHEATSHEET ##\n",
    "This cheatsheet contains all content in 100 days of code Python course by Angela Yu in Udemy.\n",
    "---"
   ]
  },
  {
   "cell_type": "markdown",
   "id": "c51b9fd3",
   "metadata": {},
   "source": [
    "## 1. WORKING WITH VARIABLES IN PYTHON TO MANAGE DATA ## "
   ]
  },
  {
   "cell_type": "markdown",
   "id": "2ca52996",
   "metadata": {},
   "source": [
    "The print function will write whatever you tell it in the terminal."
   ]
  },
  {
   "cell_type": "code",
   "execution_count": null,
   "id": "65f45be4",
   "metadata": {},
   "outputs": [],
   "source": [
    "print(\"Hello World!\")"
   ]
  },
  {
   "cell_type": "markdown",
   "id": "1aa2587f",
   "metadata": {},
   "source": [
    "These words that are between quotes are a string.  \n",
    "\\n inside a string is a new line character."
   ]
  },
  {
   "cell_type": "code",
   "execution_count": null,
   "id": "81eb1701",
   "metadata": {},
   "outputs": [],
   "source": [
    "print(\"Hello World!\\nWhat's up?\")"
   ]
  },
  {
   "cell_type": "markdown",
   "id": "eed06cf3",
   "metadata": {},
   "source": [
    "Strings can also be concactonated with a + sign.  \n",
    "Also keep in mind that empty spaces (\" \") are a character themselves inside strings."
   ]
  },
  {
   "cell_type": "code",
   "execution_count": null,
   "id": "6a441795",
   "metadata": {},
   "outputs": [],
   "source": [
    "print(\"Hello\" + \" \" + \"human\")"
   ]
  },
  {
   "cell_type": "markdown",
   "id": "370bb0fa",
   "metadata": {},
   "source": [
    "The input function prompts a user for a response through the terminal."
   ]
  },
  {
   "cell_type": "code",
   "execution_count": null,
   "id": "bb8354b0",
   "metadata": {},
   "outputs": [],
   "source": [
    "input(\"What's your name?\")"
   ]
  },
  {
   "cell_type": "markdown",
   "id": "5bb1c9f3",
   "metadata": {},
   "source": [
    "Python variables are a concept or tool that allows to label a piece of data. It's a way of storing data in a way that it can be referred in the future. "
   ]
  },
  {
   "cell_type": "code",
   "execution_count": null,
   "id": "4845fe22",
   "metadata": {},
   "outputs": [],
   "source": [
    "name: str = \"David Martinez\" # String\n",
    "age: int = 16 # Integer\n",
    "height: float = 1.65 # Float\n",
    "married: bool = False #Boolean"
   ]
  },
  {
   "cell_type": "markdown",
   "id": "2adda5be",
   "metadata": {},
   "source": [
    "The str, int, float and bool are variable hints. It basically states what data type the variable is. This is useful to improve readability but it's not necessary. The code will work just as well with `name = \"David Martinez\"`.  \n",
    "There are a few basic functions that are useful for data."
   ]
  },
  {
   "cell_type": "code",
   "execution_count": null,
   "id": "d8249f48",
   "metadata": {},
   "outputs": [],
   "source": [
    "len(name) # Returns the length of the variable name\n",
    "type(age) # Returns the type of the variable name"
   ]
  },
  {
   "cell_type": "markdown",
   "id": "4df8041e",
   "metadata": {},
   "source": [
    "Variables can be names whatever. Although there are some common standards.  \n",
    "It's important to make the code readable, so it's good practice to name variables in a way that makes sense in the context of the code.\n",
    "A few good thumb rules are:\n",
    "1. Variables can be one or more words. If they are many words, spaces will be replaced by \"_\" like `user_age: int = 30`.  \n",
    "2. Variables can contain numbers but never at the beginning: `variable1: int = 420`.  \n",
    "3. Variables shouldn't be named as code words like data types, basic functions, etc. So `int = 69` or `print = \"It's a trap\"` aren't good variable names.\n",
    "4. Keep variable names as contextual but as simple as possible.\n",
    "5. Ensure the variable names are descriptive enough."
   ]
  },
  {
   "cell_type": "markdown",
   "id": "5bf0d70e",
   "metadata": {},
   "source": [
    "## 2. UNDERSTANTING DATA TYPES AND HOW TO MANIPULATE STRINGS ##"
   ]
  },
  {
   "cell_type": "markdown",
   "id": "728e6134",
   "metadata": {},
   "source": [
    "The basic data types are:\n",
    "1. Strings `name: str = \"Becca\"`\n",
    "2. Integers `age: int = 20`\n",
    "3. Float `height: float = 1.51`\n",
    "4. Boolean `is_she_hot: boolean = True`"
   ]
  },
  {
   "cell_type": "markdown",
   "id": "69774e50",
   "metadata": {},
   "source": [
    "**Strings**  \n",
    "\n",
    "They go between double-quotes.  \n",
    "Characters of a string can be accessed individually by specifying the charater position between brackets \"[]\".  \n",
    "**Keep in mind in programming you gotta start counting from 0.**"
   ]
  },
  {
   "cell_type": "code",
   "execution_count": null,
   "id": "c1c5716c",
   "metadata": {},
   "outputs": [],
   "source": [
    "name = \"Johnny\"\n",
    "print(name[0]) # Will print J\n",
    "print(name[2]) # Will print h"
   ]
  },
  {
   "cell_type": "markdown",
   "id": "70695af7",
   "metadata": {},
   "source": [
    "You can use negative indexes to subscript backwards."
   ]
  },
  {
   "cell_type": "code",
   "execution_count": null,
   "id": "8be3747c",
   "metadata": {},
   "outputs": [],
   "source": [
    "name = \"Naoe\"\n",
    "print(name[-1]) # Will print e"
   ]
  },
  {
   "cell_type": "markdown",
   "id": "531deb84",
   "metadata": {},
   "source": [
    "**Integers**  \n",
    "\n",
    "Integers are esentially whole numbers. "
   ]
  },
  {
   "cell_type": "code",
   "execution_count": null,
   "id": "c088593b",
   "metadata": {},
   "outputs": [],
   "source": [
    "dick_size = 13"
   ]
  },
  {
   "cell_type": "markdown",
   "id": "27c762b9",
   "metadata": {},
   "source": [
    "Integers can be added, substracted, multiplied and divided. "
   ]
  },
  {
   "cell_type": "markdown",
   "id": "3c78f9c7",
   "metadata": {},
   "source": [
    "**Flaots**  \n",
    "\n",
    "Floats (floating point number) are basically decimal numbers."
   ]
  },
  {
   "cell_type": "code",
   "execution_count": null,
   "id": "6ab13013",
   "metadata": {},
   "outputs": [],
   "source": [
    "dick_to_floor_distance = 55.6"
   ]
  },
  {
   "cell_type": "markdown",
   "id": "a62ff0c1",
   "metadata": {},
   "source": [
    "**Boolean**  \n",
    "\n",
    "These are binary values. True and False."
   ]
  },
  {
   "cell_type": "code",
   "execution_count": null,
   "id": "990e7dcb",
   "metadata": {},
   "outputs": [],
   "source": [
    "is_retarded = True"
   ]
  },
  {
   "cell_type": "markdown",
   "id": "26df5c65",
   "metadata": {},
   "source": [
    "Data types are important since the code might require specific data types to run properly. \n",
    "The data type can be checked with the type() function."
   ]
  },
  {
   "cell_type": "code",
   "execution_count": null,
   "id": "b448230f",
   "metadata": {},
   "outputs": [],
   "source": [
    "print(type(\"Wubba-Lubba-Dub-Dub\"))\n",
    "print(type(1))\n",
    "print(type(3.14))\n",
    "print(type(False))"
   ]
  },
  {
   "cell_type": "markdown",
   "id": "9734c7dc",
   "metadata": {},
   "source": [
    "There is such a thing as type conversion or type casting. This allows to convert one data type into another."
   ]
  },
  {
   "cell_type": "code",
   "execution_count": null,
   "id": "37fd2ea3",
   "metadata": {},
   "outputs": [],
   "source": [
    "arrows_in_quiver = 20\n",
    "print(type(str(arrows_in_quiver)))\n",
    "\n",
    "number_of_daggers = \"2\"\n",
    "print(type(int(number_of_daggers)))\n",
    "\n",
    "potions_left = \"1.25\"\n",
    "print(type(float(potions_left)))\n",
    "\n",
    "is_alive = \"True\"\n",
    "print(type(bool(is_alive)))"
   ]
  },
  {
   "cell_type": "markdown",
   "id": "4e281e82",
   "metadata": {},
   "source": [
    "Keep in mind that:\n",
    "* Only number strings can be cast to int or float\n",
    "* Only \"True\" or \"False\" str can be cast to bool\n",
    "* All int, float and bool can be cast to str\n",
    "* Both int and float can be cast to eachother"
   ]
  },
  {
   "cell_type": "markdown",
   "id": "581f2a88",
   "metadata": {},
   "source": [
    "There are basic mathematical operators (+, -, *, /, //, %)"
   ]
  },
  {
   "cell_type": "code",
   "execution_count": null,
   "id": "c99fe6b3",
   "metadata": {},
   "outputs": [],
   "source": [
    "print(2 + 3) # Prints int or float (5 in this case)\n",
    "print(5 - 1) # Prints int or float (4 in this case)\n",
    "print(4 * 5) # Prints int or float (20 in this case)\n",
    "print(5 / 2) # Prints only float (2.5 in this case)\n",
    "print(10 // 3) # Prints only int (3 in this case)\n",
    "print(5 % 2) # Prints the rest of a division (int, 1 in this case)\n",
    "print(2 ** 3) # Prints int or float. This would be 2 to the power of 3 (8)"
   ]
  },
  {
   "cell_type": "markdown",
   "id": "de901877",
   "metadata": {},
   "source": [
    "These operators follow the PEMDAS hierearchy.\n",
    "* P: Parenthesis\n",
    "* E: Exponents\n",
    "* MD: Multiplication and division\n",
    "* AS: Addition and substraction"
   ]
  },
  {
   "cell_type": "code",
   "execution_count": null,
   "id": "57b14eb9",
   "metadata": {},
   "outputs": [],
   "source": [
    "print((2 + 1) ** 2 * 2 / 3 + 2 - 1)"
   ]
  },
  {
   "cell_type": "markdown",
   "id": "392b2b3c",
   "metadata": {},
   "source": [
    "Floats can be tricky since sometimes they can have a lot of decimal numbers.  \n",
    "Consider pi, 3.14159265."
   ]
  },
  {
   "cell_type": "code",
   "execution_count": null,
   "id": "8dd781fa",
   "metadata": {},
   "outputs": [],
   "source": [
    "pi = 3.14159265\n",
    "\n",
    "print(int(pi)) # This will get rid of all decimals, flooring the number and print 3\n",
    "print(round(pi)) # This returns an int, rounding up to the next whole number or the current whole number, depending if the float is at or past the .5 threshlold\n",
    "print(round(pi, 2)) # This rounds up to two decimal numbers"
   ]
  },
  {
   "cell_type": "markdown",
   "id": "f78174ed",
   "metadata": {},
   "source": [
    "Number manipulation is possible through the below operators:\n",
    "* += will automatically update the value performing the addition\n",
    "* -= will automatically update the value performing the substraction\n",
    "* *= will automatically update the value performing the multiplication\n",
    "* /= will automatically update the value performing the division"
   ]
  },
  {
   "cell_type": "code",
   "execution_count": null,
   "id": "68da4fe8",
   "metadata": {},
   "outputs": [],
   "source": [
    "number = 2\n",
    "\n",
    "number += 1\n",
    "print(number) # Will print 3\n",
    "\n",
    "number -= 2\n",
    "print(number) # Will print 1\n",
    "\n",
    "number *= 4\n",
    "print(number) # Will print 4\n",
    "\n",
    "number /= 2\n",
    "print(number) # Will print 2s"
   ]
  },
  {
   "cell_type": "markdown",
   "id": "4b49b66f",
   "metadata": {},
   "source": [
    "There is a concept called f-string. Which are strings that accept variable insertion.  \n",
    "This is very helpful since it allows to skip data casting. "
   ]
  },
  {
   "cell_type": "code",
   "execution_count": null,
   "id": "cef88133",
   "metadata": {},
   "outputs": [],
   "source": [
    "name = \"Lucy\"\n",
    "age = 21\n",
    "\n",
    "print(f\"This is {name} and she's {age} years old.\")"
   ]
  },
  {
   "cell_type": "markdown",
   "id": "0cac4dd3",
   "metadata": {},
   "source": [
    "## 3. CONTROL FLOW AND LOGICAL OPERATORS ##"
   ]
  },
  {
   "cell_type": "markdown",
   "id": "43ccef96",
   "metadata": {},
   "source": [
    "**if / else statements and conditional operaors**  "
   ]
  },
  {
   "cell_type": "code",
   "execution_count": null,
   "id": "2bc840a2",
   "metadata": {},
   "outputs": [],
   "source": [
    "referral = True\n",
    "\n",
    "if referral == True:\n",
    "    print(\"You can have a drink.\")\n",
    "else:\n",
    "    print(\"Fuck off, choom!\")"
   ]
  },
  {
   "cell_type": "markdown",
   "id": "0fd87645",
   "metadata": {},
   "source": [
    "There are many operators:\n",
    "* == equal to x\n",
    "* < lesser than x (x not included)\n",
    "* \\> greater than x (x not included)\n",
    "* <= lesser or equal to x\n",
    "* \\>=greater or equal to x"
   ]
  },
  {
   "cell_type": "code",
   "execution_count": null,
   "id": "403c5d20",
   "metadata": {},
   "outputs": [],
   "source": [
    "number = 101\n",
    "\n",
    "if number == 100:\n",
    "    print(f\"number is {number}\")\n",
    "elif number < 25:\n",
    "    print(\"number is less than 25\")\n",
    "elif number > 75:\n",
    "    print(\"number is greater than 75\")\n",
    "elif 75 >= number >= 25:\n",
    "    print(\"number is between 25 and 75\")\n",
    "else:\n",
    "    print(\"number is greater than 100\")"
   ]
  },
  {
   "cell_type": "markdown",
   "id": "cccdfd0b",
   "metadata": {},
   "source": [
    "if / else statements can be nested."
   ]
  },
  {
   "cell_type": "code",
   "execution_count": null,
   "id": "a155198b",
   "metadata": {},
   "outputs": [],
   "source": [
    "number = -2\n",
    "if number >= 0:\n",
    "    print(\"Number is positive\")\n",
    "    if number % 2 == 0:\n",
    "        print(\"Number is even\")\n",
    "    else:\n",
    "        print(\"Number is odd\")\n",
    "else:\n",
    "    print(\"Number is negative\")\n",
    "\n"
   ]
  },
  {
   "cell_type": "markdown",
   "id": "b8f3f8b9",
   "metadata": {},
   "source": [
    "There can also be multiple if statements."
   ]
  },
  {
   "cell_type": "code",
   "execution_count": null,
   "id": "001dd0b6",
   "metadata": {},
   "outputs": [],
   "source": [
    "age = 18\n",
    "is_cunt = True\n",
    "is_woman = True\n",
    "shoot_in_the_dick = True\n",
    "\n",
    "if age >= 18:\n",
    "    print(\"You're an adult\")\n",
    "    if is_cunt == True:\n",
    "        print(\"You're a cunt\")\n",
    "    if is_woman == True:\n",
    "        print(\"But you're a girl so I'm not gonna shoot you.\")\n",
    "        shoot_in_the_dick = False\n",
    "    else:\n",
    "        print(\"Get ready to get shot in the dick!\")\n",
    "\n",
    "\n",
    "\n"
   ]
  },
  {
   "cell_type": "markdown",
   "id": "f3851ca0",
   "metadata": {},
   "source": [
    "Logical operators are:\n",
    "* AND / &\n",
    "* OR / |\n",
    "* not / !"
   ]
  },
  {
   "cell_type": "code",
   "execution_count": null,
   "id": "6b0f7b26",
   "metadata": {},
   "outputs": [],
   "source": [
    "make = \"toyota\"\n",
    "model = \"240SX\"\n",
    "\n",
    "if make == \"Nissan\" and model == \"Skyline GT-R34\":\n",
    "    print(\"FUCK YEAH!!!\")\n",
    "else:\n",
    "    if make == \"Nissan\" or model == \"JDM\":\n",
    "        print(\"Still pretty cool\")\n",
    "    elif make != \"Nissan\" or model != \"JDM\":\n",
    "        print(\"Yuck! Not interested\")"
   ]
  },
  {
   "cell_type": "markdown",
   "id": "4ec933a8",
   "metadata": {},
   "source": [
    "## 4. RANDOMIZATION AND PYTHON LISTS ##"
   ]
  },
  {
   "cell_type": "markdown",
   "id": "4ce59625",
   "metadata": {},
   "source": [
    "Randomness / randomization is really useful in programming. But it's actually really hard to get truly random numbers. In python there's a random module that generates pseudo-random numbers. Not really 100% random since they are generated by algorithms, but they're close enough. "
   ]
  },
  {
   "cell_type": "code",
   "execution_count": null,
   "id": "e4b1663d",
   "metadata": {},
   "outputs": [],
   "source": [
    "from random import randint\n",
    "print(randint(0, 10)) # Print random numbers from 0 to 10, both inclusive"
   ]
  },
  {
   "cell_type": "markdown",
   "id": "9621cf14",
   "metadata": {},
   "source": [
    "A list is a data structure containing several elements."
   ]
  },
  {
   "cell_type": "code",
   "execution_count": null,
   "id": "e43c875d",
   "metadata": {},
   "outputs": [],
   "source": [
    "awesome_food = [\"Cheeseburger\", \"Hawaiian pizza\", \"Steak\"]\n",
    "print(awesome_food[0]) # Will print Cheeseburger\n",
    "print(awesome_food[-1]) # Will print Steak"
   ]
  },
  {
   "cell_type": "markdown",
   "id": "56267711",
   "metadata": {},
   "source": [
    "Just like with strings, elements in lists can be accessed individually by writing their index between brackets.\n",
    "Lists can be manipulated. You can add and delete elements and more."
   ]
  },
  {
   "cell_type": "code",
   "execution_count": null,
   "id": "f8c0487d",
   "metadata": {},
   "outputs": [],
   "source": [
    "guns = [\"Gutz\", \"Skippy\"]\n",
    "guns.append(\"Byakko\") # Appends one element to the end of the list\n",
    "print(guns)\n",
    "guns.extend([\"Jinchumaru\", \"Max-Tac blades\"]) # Appends elements of a list (or an iterable) to the end of the list\n",
    "print(guns)\n",
    "guns.insert(0, \"Monowire\") # Inserts one element in the index position specified\n",
    "print(guns)\n",
    "guns.remove(\"Jinchumaru\")\n",
    "print(guns)"
   ]
  },
  {
   "cell_type": "markdown",
   "id": "b6839a41",
   "metadata": {},
   "source": [
    "There are common errors. Like IndexError: list index out of range. So remembert that indexes start from 0.  \n",
    "List can be nested."
   ]
  },
  {
   "cell_type": "code",
   "execution_count": null,
   "id": "02a27e4b",
   "metadata": {},
   "outputs": [],
   "source": [
    "guys = [\"Maine\", \"Pilar\", \"Marco\", \"David\"]\n",
    "gals = [\"Dorio\", \"Kiwi\", \"Lucy\", \"Rebecca\"]\n",
    "chooms = [gals, guys]\n",
    "print(chooms)"
   ]
  },
  {
   "cell_type": "markdown",
   "id": "ae07614f",
   "metadata": {},
   "source": [
    "## 5.PYTHON LOOPS ##"
   ]
  },
  {
   "cell_type": "markdown",
   "id": "347c36cd",
   "metadata": {},
   "source": [
    "In python there are loops.\n",
    "There are for loops and while loops. "
   ]
  },
  {
   "cell_type": "markdown",
   "id": "8a1a4b1d",
   "metadata": {},
   "source": [
    "For loops are actions executed for a specific number of times."
   ]
  },
  {
   "cell_type": "code",
   "execution_count": null,
   "id": "7f680fb9",
   "metadata": {},
   "outputs": [],
   "source": [
    "hoods = [\"Watson\", \"Westbrook\", \"City Center\", \"Heywood\", \"Santo Domingo\", \"Pacifica\", \"The Badlands\"]\n",
    "\n",
    "for hood in hoods:\n",
    "    print(hood)\n",
    "\n",
    "total = 0\n",
    "for number in range(1, 101):\n",
    "    total += number\n",
    "print(total)\n",
    "    "
   ]
  },
  {
   "cell_type": "markdown",
   "id": "bca2c499",
   "metadata": {},
   "source": [
    "While loops are executed while a specific condition is met."
   ]
  },
  {
   "cell_type": "code",
   "execution_count": null,
   "id": "8801ea3a",
   "metadata": {},
   "outputs": [],
   "source": [
    "number = 0\n",
    "\n",
    "while number <= 10:\n",
    "    print(number)\n",
    "    number += 1"
   ]
  },
  {
   "cell_type": "markdown",
   "id": "031a9a41",
   "metadata": {},
   "source": [
    "Python is very number-friendly, and has many helpful functions."
   ]
  },
  {
   "cell_type": "code",
   "execution_count": null,
   "id": "1f4a3d47",
   "metadata": {},
   "outputs": [],
   "source": [
    "numbers = [1, 2, 3, 5, 8, 13]\n",
    "print(sum(numbers)) # Adds up all the numbers in the list\n",
    "print(max(numbers)) # Returns the biggest number in the list"
   ]
  },
  {
   "cell_type": "markdown",
   "id": "0ed76616",
   "metadata": {},
   "source": [
    "## 6. PYTHON FUNCTIONS AND KAREL ##"
   ]
  },
  {
   "cell_type": "markdown",
   "id": "8a379c75",
   "metadata": {},
   "source": [
    "Custom functions can be created in python."
   ]
  },
  {
   "cell_type": "code",
   "execution_count": null,
   "id": "98f44acc",
   "metadata": {},
   "outputs": [],
   "source": []
  },
  {
   "cell_type": "code",
   "execution_count": null,
   "id": "7763873f",
   "metadata": {},
   "outputs": [],
   "source": [
    "def greeting():\n",
    "    print(\"Hello\")"
   ]
  },
  {
   "cell_type": "markdown",
   "id": "2abb3b8b",
   "metadata": {},
   "source": [
    "## 8. FUNCTION PARAMETERS ##"
   ]
  },
  {
   "cell_type": "markdown",
   "id": "c4098287",
   "metadata": {},
   "source": [
    "Functions can take imputs."
   ]
  },
  {
   "cell_type": "code",
   "execution_count": null,
   "id": "25db33ec",
   "metadata": {},
   "outputs": [],
   "source": [
    "full_name = \"Scott Pilgrim\"\n",
    "\n",
    "def greeting(name: str, age: int):\n",
    "    print(f\"Hello {name}! You're a piece of shit to Ramona.\")\n",
    "\n",
    "greeting(full_name)"
   ]
  },
  {
   "cell_type": "markdown",
   "id": "0e01ea4a",
   "metadata": {},
   "source": [
    "The input is often referred to as \"patameter\" and its value, \"argument\"."
   ]
  },
  {
   "cell_type": "markdown",
   "id": "fbf7f6fd",
   "metadata": {},
   "source": [
    "Functions can also take many parameters."
   ]
  },
  {
   "cell_type": "code",
   "execution_count": null,
   "id": "952b7e02",
   "metadata": {},
   "outputs": [],
   "source": [
    "def greeting(name: str, location: str):\n",
    "    print(f\"Hello {name}.\")\n",
    "    print(f\"Are you coming to {location}?\")\n",
    "\n",
    "greeting(\"Johnny\", \"Arasaka Tower\")"
   ]
  },
  {
   "cell_type": "markdown",
   "id": "aa9a959b",
   "metadata": {},
   "source": [
    "The function above takes positional arguments. It'll interpret arguments depending on their position. If the arguments for name and location get change like `greeting(\"Arasaka Tower\", \"Johnny\")` the output would be \"Hello Arasaka Tower. Are you coming to Johnny?. Which is nonesense.\n",
    "But this can be changed, by using key word arguments by including the parameters in the function call."
   ]
  },
  {
   "cell_type": "code",
   "execution_count": null,
   "id": "0ac68e65",
   "metadata": {},
   "outputs": [],
   "source": [
    "def greeting(name: str, location: str):\n",
    "    print(f\"Hello {name}. Let's go to {location}\")\n",
    "\n",
    "greeting(location=\"The Atlantis\", name=\"Rogue\")"
   ]
  },
  {
   "cell_type": "markdown",
   "id": "3a151114",
   "metadata": {},
   "source": [
    "Now, even though I passed the arguments in reverse, the output interprets them by their corresponding parameter, not their position. "
   ]
  },
  {
   "cell_type": "markdown",
   "id": "13be07c6",
   "metadata": {},
   "source": [
    "## 9. DICTIONARIES AND NESTING ##"
   ]
  },
  {
   "cell_type": "markdown",
   "id": "f65944d6",
   "metadata": {},
   "source": [
    "Python dictionaries work pretty much as regular dictionaries, a collection of key, value pairs."
   ]
  },
  {
   "cell_type": "code",
   "execution_count": null,
   "id": "9e02d96a",
   "metadata": {},
   "outputs": [],
   "source": [
    "character: dict = {\n",
    "    \"name\": \"Naoe\",\n",
    "    \"last_name\": \"Fijubayashi\",\n",
    "    \"age\": \"20\",\n",
    "    \"ocuppation\": \"Shinobi and assassin\",\n",
    "\n",
    "}"
   ]
  },
  {
   "cell_type": "markdown",
   "id": "ce87316f",
   "metadata": {},
   "source": [
    "Items from dictionaries can be accessed, both keys and values."
   ]
  },
  {
   "cell_type": "code",
   "execution_count": null,
   "id": "3a3c7524",
   "metadata": {},
   "outputs": [],
   "source": [
    "character: dict = {\n",
    "    \"name\": \"Naoe\",\n",
    "    \"last_name\": \"Fijubayashi\",\n",
    "    \"age\": \"20\",\n",
    "    \"ocuppation\": \"Shinobi and assassin\",\n",
    "\n",
    "}\n",
    "print(character[\"name\"])"
   ]
  },
  {
   "cell_type": "markdown",
   "id": "7d308c32",
   "metadata": {},
   "source": [
    "It's also possible to add items. "
   ]
  },
  {
   "cell_type": "code",
   "execution_count": null,
   "id": "5ce46f8c",
   "metadata": {},
   "outputs": [],
   "source": [
    "character: dict = {\n",
    "    \"name\": \"Naoe\",\n",
    "    \"last_name\": \"Fijubayashi\",\n",
    "    \"age\": \"20\",\n",
    "    \"ocuppation\": \"Shinobi and assassin\",\n",
    "\n",
    "}\n",
    "\n",
    "character[\"friends\"] = \"Yasuke, Junjiro\"\n",
    "\n",
    "print(character)"
   ]
  },
  {
   "cell_type": "markdown",
   "id": "d7038cc9",
   "metadata": {},
   "source": [
    "Empty dictionaries can be created to add items to them later. These items can be edited and even deleted. Also full dictionaries can be deleted."
   ]
  },
  {
   "cell_type": "code",
   "execution_count": null,
   "id": "f8fbffc0",
   "metadata": {},
   "outputs": [],
   "source": [
    "character: dict = {}\n",
    "print(character)\n",
    "\n",
    "character[\"name\"] = \"jade\"\n",
    "character[\"race\"] = \"Golden Elf\"\n",
    "print(character)\n",
    "\n",
    "character[\"name\"] = \"Jade\"\n",
    "print(character)\n",
    "\n",
    "character = {}\n",
    "print(character)"
   ]
  },
  {
   "cell_type": "markdown",
   "id": "b7922790",
   "metadata": {},
   "source": [
    "It's also possible to loop through dictionaries."
   ]
  },
  {
   "cell_type": "code",
   "execution_count": null,
   "id": "c287d810",
   "metadata": {},
   "outputs": [],
   "source": [
    "character: dict = {\n",
    "    \"name\": \"Essel\",\n",
    "    \"race\": \"dark elf\",\n",
    "    \"social_status\": \"prince\"\n",
    "}\n",
    "\n",
    "for item in character:\n",
    "    print(f\"His {item} is {character[item]}.\")"
   ]
  },
  {
   "cell_type": "markdown",
   "id": "44aea73c",
   "metadata": {},
   "source": [
    "Nesting is often found in lists and dictionaries."
   ]
  },
  {
   "cell_type": "code",
   "execution_count": null,
   "id": "fb48a1a6",
   "metadata": {},
   "outputs": [],
   "source": [
    "car: dict = {\n",
    "    \"make\": \"Nissan\",\n",
    "    \"models\": [\"Skyline GT-R32\",\n",
    "               \"Skyline GT-R34\", \n",
    "               \"240SX\"],\n",
    "    \"rating\": \"10/10\"\n",
    "}\n",
    "\n",
    "print(f\"The {car['make']} {car['models'][0]} is a masterpiece.\")"
   ]
  },
  {
   "cell_type": "markdown",
   "id": "b5aa548d",
   "metadata": {},
   "source": [
    "Lists can also be nested."
   ]
  },
  {
   "cell_type": "code",
   "execution_count": null,
   "id": "4149fb77",
   "metadata": {},
   "outputs": [],
   "source": [
    "food: list = [\"Cheeseburger\", \"Steak\", [\"Reina Pepiada\", \"Tacquitos Pendejos\", \"Ropa Vieja\"]]\n",
    "print(f\"I fucking love {food[2][1]}\")"
   ]
  },
  {
   "cell_type": "markdown",
   "id": "e3cb37ad",
   "metadata": {},
   "source": [
    "There can also be nested dictionaries."
   ]
  },
  {
   "cell_type": "code",
   "execution_count": null,
   "id": "e2943627",
   "metadata": {},
   "outputs": [],
   "source": [
    "cars: dict = {\n",
    "    \"JDM\": {\n",
    "        \"Nissan\": [\"Skyline GT-R32\", \"Skyline GT-R34\", \"350 Z\", \"240 SX\"],\n",
    "        \"Toyota\": [\"Supra\", \"Corolla\", \"AE86\", \"Celica\"],\n",
    "        \"Honda\": [\"Civic\", \"NSX\", \"Prelude\"]\n",
    "    },\n",
    "    \"American Muscle\": {\n",
    "        \"Ford\": [\"Mustan GT\", \"Shelby Cobra GT500\", \"Gran Torino\"],\n",
    "        \"Chevrolette\": [\"Camaro\", \"Chevelle\", \"Z28\"],\n",
    "        \"Dodge\":[\"Charger R/T\", \"Challenger\", \"Viper\"]\n",
    "    }\n",
    "}\n",
    "\n",
    "print(cars[\"JDM\"][\"Nissan\"][0])"
   ]
  },
  {
   "cell_type": "markdown",
   "id": "a8223df4",
   "metadata": {},
   "source": [
    "## 10. FUNCTIONS WITH OUTPUTS ##"
   ]
  },
  {
   "cell_type": "markdown",
   "id": "577aa5ac",
   "metadata": {},
   "source": [
    "Functions can return outputs that can be used lated in the code. "
   ]
  },
  {
   "cell_type": "code",
   "execution_count": null,
   "id": "41b27093",
   "metadata": {},
   "outputs": [],
   "source": [
    "def calculate_damage(life: int, defense: int, damage: int):\n",
    "    real_damage = damage - defense\n",
    "    life_left = life - real_damage\n",
    "    return life_left\n",
    "\n",
    "character: dict = {\n",
    "    \"name\": \"generic goon\",\n",
    "    \"life\": 100,\n",
    "    \"defense\": 10\n",
    "}\n",
    "\n",
    "print(f\"{character[\"name\"].title()} has been shot and has {calculate_damage(character[\"life\"], character[\"defense\"], 50)} health points left.\")"
   ]
  },
  {
   "cell_type": "markdown",
   "id": "1b61a639",
   "metadata": {},
   "source": [
    "Functions can serve as input for other functions."
   ]
  },
  {
   "cell_type": "code",
   "execution_count": null,
   "id": "0e6e58fd",
   "metadata": {},
   "outputs": [],
   "source": [
    "def create_character(name: str, age: int):\n",
    "    character = {\n",
    "        \"name\": name,\n",
    "        \"age\": age\n",
    "    }\n",
    "    return character\n",
    "\n",
    "def congratulate_character(person: dict):\n",
    "    congratulation = f\"Hello {person[\"name\"]}. Happy {person[\"age\"]}th birthday!\"\n",
    "    return congratulation\n",
    "\n",
    "birthday_card_text = congratulate_character(create_character(\"Miles\", 18))\n",
    "print(birthday_card_text)"
   ]
  },
  {
   "cell_type": "markdown",
   "id": "5c6ef131",
   "metadata": {},
   "source": [
    "Functions can have multiple return values. Even empty returns. They keyword \"return\" basically marks the end of the code."
   ]
  },
  {
   "cell_type": "code",
   "execution_count": null,
   "id": "87914a06",
   "metadata": {},
   "outputs": [],
   "source": [
    "def format_name(name: str, last_name: str):\n",
    "    if name == \"\" or last_name == \"\":\n",
    "        return # This will return \"None\"\n",
    "    \n",
    "    formatted_name =  name.title()\n",
    "    formatted_last_name = last_name.title()\n",
    "    return f\"Result: {formatted_name} {formatted_last_name}\"\n",
    "\n",
    "print(format_name(\"\", \"\"))"
   ]
  },
  {
   "cell_type": "markdown",
   "id": "533404b4",
   "metadata": {},
   "source": [
    "Docstrings are a useful funciton that allows to write documentation in the code."
   ]
  },
  {
   "cell_type": "code",
   "execution_count": null,
   "id": "506317fd",
   "metadata": {},
   "outputs": [],
   "source": [
    "def format_name(name: str, last_name: str) -> str: # The -> str establishes that the output of this function MUST be a string\n",
    "    \"\"\"Takes the first and last name and returns them in title case\"\"\"\n",
    "    if name == \"\" or last_name == \"\":\n",
    "        return # This will return \"None\"\n",
    "    \n",
    "    formatted_name =  name.title()\n",
    "    formatted_last_name = last_name.title()\n",
    "    return f\"Result: {formatted_name} {formatted_last_name}\"\n",
    "print(format_name(\"\", \"\"))"
   ]
  },
  {
   "cell_type": "markdown",
   "id": "0ea05368",
   "metadata": {},
   "source": [
    "## 12. SCOPE ##"
   ]
  },
  {
   "cell_type": "markdown",
   "id": "cab70eff",
   "metadata": {},
   "source": [
    "Variables declared inside functions have local scope. They're only seen by the code within the function.\n",
    "Variables declared outside functions have local scope. Meaning they're seen by all code."
   ]
  },
  {
   "cell_type": "code",
   "execution_count": null,
   "id": "9c8b3fb1",
   "metadata": {},
   "outputs": [],
   "source": [
    "enemies = 1 # Global variable\n",
    "\n",
    "def add_enemies():\n",
    "    enemies = 2 # Local variable. Only the local variable is 2. THe global is unaffected by this\n",
    "    print(f\"There are {enemies} enemies\")\n",
    "\n",
    "add_enemies()\n",
    "print(f\"There are {enemies} enemies\")"
   ]
  },
  {
   "cell_type": "code",
   "execution_count": null,
   "id": "4f130fc9",
   "metadata": {},
   "outputs": [],
   "source": [
    "player_health = 10\n",
    "\n",
    "def drink_potion():\n",
    "    potion_strenght = 2\n",
    "    health = player_health\n",
    "    health += potion_strenght\n",
    "    print(health)\n",
    "\n",
    "drink_potion()"
   ]
  },
  {
   "cell_type": "markdown",
   "id": "bcd3f984",
   "metadata": {},
   "source": [
    "It's possible to modify global variables by including the work \"global\" before the variable inside a function."
   ]
  },
  {
   "cell_type": "code",
   "execution_count": null,
   "id": "a1c66cfb",
   "metadata": {},
   "outputs": [],
   "source": [
    "books = 10\n",
    "\n",
    "def add_book():\n",
    "    global books # Declare \"books\" as a global variable in-function\n",
    "    books += 1\n",
    "\n",
    "add_book()\n",
    "print(books) # Will print 11"
   ]
  },
  {
   "cell_type": "markdown",
   "id": "1275c0f3",
   "metadata": {},
   "source": [
    "Although using the \"global\" keyword is dangerous and highly unadvisible.\n",
    "A better alternative is returning a new value."
   ]
  },
  {
   "cell_type": "code",
   "execution_count": null,
   "id": "72250672",
   "metadata": {},
   "outputs": [],
   "source": [
    "full_health = 100\n",
    "\n",
    "def decrease_health():\n",
    "    health = full_health\n",
    "    health -= 1\n",
    "    return health\n",
    "\n",
    "current_health = decrease_health()\n",
    "print(current_health)"
   ]
  },
  {
   "cell_type": "markdown",
   "id": "ae955065",
   "metadata": {},
   "source": [
    "Global constants are variables that once defined won't ever be changed.  \n",
    "Global constants are names in upper case."
   ]
  },
  {
   "cell_type": "code",
   "execution_count": null,
   "id": "8809876c",
   "metadata": {},
   "outputs": [],
   "source": [
    "PI = 3.14159\n",
    "\n",
    "def my_function():\n",
    "    print(f\"Pi is {PI}\")\n",
    "\n",
    "my_function()"
   ]
  },
  {
   "cell_type": "markdown",
   "id": "336b3a9c",
   "metadata": {},
   "source": [
    "## 13. DEBUGGING: HOW TO FIND AND FIX ERRORS IN THE CODE ##"
   ]
  },
  {
   "cell_type": "markdown",
   "id": "0aabad62",
   "metadata": {},
   "source": [
    "Bugs are errors and unexpexted behaviors in the code.\n",
    "\n",
    "* The first step to solving a bug is describing the problem. \n",
    "* The next step is reproducing the bug.  \n",
    "* It's also playful to pretend to be the computer and explain to a rubber ducky what the code is meant to do.\n",
    "* Fix any errors that show up underlined in the editor before running the code.\n",
    "* Use print statements to see what the code's doing. \n",
    "* Using debuggers is also a great option like Thonny. \n",
    "* Also take a break every now and then. Debugging can heavily saturate the brain. \n",
    "* Ask someone (developer, stack overflow, chatGPT, etc)\n",
    "* Run you code often. Don't wait until you finish or you'll end up with a big steaming pile of bugs."
   ]
  },
  {
   "cell_type": "markdown",
   "id": "c16e3224",
   "metadata": {},
   "source": [
    "## 16. OBJECT ORIENTED PROGRAMMING (OOP) ##"
   ]
  },
  {
   "cell_type": "markdown",
   "id": "b3d9dd9f",
   "metadata": {},
   "source": [
    "Procedural programming is a code that has a procedure that leads to another, and then another and so on. The computer is working top to bottom.  \n",
    "But the more complex the code gets, also the most confusing gets.  \n",
    "This is where Object Oriented Programming comes in.  \n",
    "\n",
    "Think about a self-driving car. It would need:\n",
    "* Camera module\n",
    "* Lane detection\n",
    "* Navigation system\n",
    "* Fuel management\n",
    "\n",
    "These can all be created separately as \"models\" to be later used in a \"main\" script.\n",
    "\n",
    "These models have to be created keeping in account two thinks:\n",
    "* What the object has. These are variables called attributes.\n",
    "* What the obkect does. These are functions called methods.\n",
    "\n",
    "The model is the blueprint from which an object will be created. Once you have a blueprint, you can create multiple objects with it.\n",
    "This blueprint is called a \"class\". And the individual objects are called \"objects\"."
   ]
  },
  {
   "cell_type": "markdown",
   "id": "fb8212b3",
   "metadata": {},
   "source": [
    "There are Python packages that other people have written that it's available for use. \n",
    "These packages can be found in the Python package index pypi.org."
   ]
  },
  {
   "cell_type": "markdown",
   "id": "760f07d2",
   "metadata": {},
   "source": [
    "## 17. BENEFITS OF OOP ##"
   ]
  },
  {
   "cell_type": "markdown",
   "id": "6ce65fe6",
   "metadata": {},
   "source": [
    "With OOP you can create custom classes."
   ]
  },
  {
   "cell_type": "code",
   "execution_count": null,
   "id": "9b3a984f",
   "metadata": {},
   "outputs": [],
   "source": [
    "from random import randint\n",
    "class User: # Class name are ALWAYS pascal case (ThisIsPascalCase)\n",
    "    def __init__(self, username: str): # This is the constructor function that initializes the attributes.\n",
    "        self.username = username\n",
    "        self.id = f\"username_{str(randint(1, 11))}\"\n",
    "        self.followers = 0\n",
    "        self.following = 0\n",
    "\n",
    "    def follow(self, user): # \"self\" MUST be in all methods as a first parameter\n",
    "        user.followers += 1\n",
    "        self.following += 1\n",
    "\n",
    "user_1 = User(username=\"The Jackster\")\n",
    "user_2 = User(username=\"theMisty\")\n",
    "\n",
    "user_1.follow(user_2)\n",
    "print(f\"user_1 - followers: {user_1.followers} | following: {user_1.following}\")\n",
    "print(f\"user_2 - followers: {user_2.followers} | following: {user_2.following}\")"
   ]
  },
  {
   "cell_type": "markdown",
   "id": "cfc6adcc",
   "metadata": {},
   "source": [
    "## 19. INSTANCES, STATE AND HIGHER ORDER FUNCTIONS ##"
   ]
  },
  {
   "cell_type": "markdown",
   "id": "a1ade7a1",
   "metadata": {},
   "source": [
    "Higher order functions are functions that can take other functions as an input/argument.\n",
    "Each version of an object is called an instance of that object. Since they have different attributes and their methods can vary, they're in different states. "
   ]
  },
  {
   "cell_type": "markdown",
   "id": "bc6cb104",
   "metadata": {},
   "source": [
    "## 21. INHERITANCE AND LIST SLICING ##"
   ]
  },
  {
   "cell_type": "markdown",
   "id": "f72e26ff",
   "metadata": {},
   "source": [
    "Class inheritance is the concept where a class B can inherit attributes and methods from a class A."
   ]
  },
  {
   "cell_type": "code",
   "execution_count": null,
   "id": "6b844b61",
   "metadata": {},
   "outputs": [],
   "source": [
    "class Human:\n",
    "    def __init__(self, name):\n",
    "        self.name = name\n",
    "        self.head = 1\n",
    "        self.torso = 1\n",
    "        self.arms = 2\n",
    "        self.legs = 2\n",
    "\n",
    "    def breathe():\n",
    "        print(\"Inhale, exhale\")\n",
    "\n",
    "class Bartender(Human):\n",
    "    def __init__(self, name):\n",
    "        super().__init__(name) # super() initializes the Human class inside the construction function for the Bartender class. If you wanna pass arguments from the Human class to the Bartender class, you must include the parameter name in the Bartender init and super function\n",
    "        self.recipes = [\"Old Fashuined\", \"Margarita\", \"Paloma\", \"Long Island Ice Tea\"]\n",
    "        self.skills = [\"Mixology\", \"Flare\"]\n",
    "\n",
    "    def mix_drink(self):\n",
    "        super().breathe() # super() allows Bartender to access Human methods\n",
    "        print(\"Doing this while micing drinks\")\n",
    "\n",
    "bartender = Bartender(name=\"claire\")\n",
    "print(f\"{bartender.name} works as a bartender and she's an exper in {bartender.skills[0]}\")"
   ]
  },
  {
   "cell_type": "markdown",
   "id": "7d55b83b",
   "metadata": {},
   "source": [
    "A note about the super() function.  \n",
    "So you have the init function in the Bartender (child) class. This init has the super function that initializes the Human (parent) class INSIDE the Bartender constructor. Since the Human class takes one argument and we'll initialize the Bartender class, the Bartender's init function will also take a name argument, which will be passed down to the super function, to assign the name argument to the name attribute from the Humna class, inherited by Bartender.  \n",
    "So esentially when you create the Bartender instance (`bartender = Bartender(name=\"Jason\")`) you're effectively using the Bartender class with Human arguments. "
   ]
  },
  {
   "cell_type": "markdown",
   "id": "563eadbd",
   "metadata": {},
   "source": [
    "List slicing allows to access a specific section of a list."
   ]
  },
  {
   "cell_type": "code",
   "execution_count": null,
   "id": "00f9482b",
   "metadata": {},
   "outputs": [],
   "source": [
    "tribes = [\"Nora\", \"Carja\", \"Oseram\", \"Banuk\", \"Utaru\", \"Tenakth\", \"Quen\"]\n",
    "print(tribes[1:5]) # From Carja to Utaru\n",
    "print(tribes[4:]) # From Utaru til' the end\n",
    "print(tribes[:3]) # From Nora to Oseram\n",
    "print(tribes[1:6:2]) # Prints every second item from Carja to Tenakth\n",
    "print(tribes[::-1]) # Prints the list backwards"
   ]
  },
  {
   "cell_type": "markdown",
   "id": "a4599ebc",
   "metadata": {},
   "source": [
    "## 24. FILES, DIRECTORIES AND PATHS ##"
   ]
  },
  {
   "cell_type": "markdown",
   "id": "b010ad46",
   "metadata": {},
   "source": [
    "Python scripts can access files and directories."
   ]
  },
  {
   "cell_type": "code",
   "execution_count": null,
   "id": "744f3150",
   "metadata": {},
   "outputs": [],
   "source": [
    "file = open(\"sample_file.txt\")\n",
    "file_content = file.read()\n",
    "print(file_content)\n",
    "file.close() # It's important to ALWAYS close the file\n",
    "\n",
    "with open(\"sample_file.txt\", mode=\"a\") as file: # mode=\"a+\" is append+ mode which will allow to read the file and to add new text to the file without deleting none of the content\n",
    "    file.write(\"\\nNew text.\")\n",
    "    # No need for file.close since this method automatically closes the file."
   ]
  },
  {
   "cell_type": "markdown",
   "id": "220ed1d7",
   "metadata": {},
   "source": [
    "There are many modes for the with open() function:\n",
    "* r: read file\n",
    "* a: add text to file without deleting the content\n",
    "* w: delete old content and write new content to the file"
   ]
  },
  {
   "cell_type": "markdown",
   "id": "b7968674",
   "metadata": {},
   "source": [
    "Directories are the computer's folders. The primal folder in any computer is the root directory (/).  \n",
    "All other directories are in the root (Users, Application, etc).  \n",
    "Directories can contain more directories and folders.\n",
    "\n",
    "/Users/Username/Deskstop/folder_1/file.txt - This is an absolute file path since it starts at the root directory\n",
    "\n",
    "But let's asume you're already in the Desktop directory and you wanna know the path to file.txt RELATIVE to the desktop directory:\n",
    "./folder_1/file.txt (./ is the way to represent any current directory you might be in)\n",
    "\n",
    "../ represent going to backwards to the parent directory."
   ]
  },
  {
   "cell_type": "markdown",
   "id": "337bf994",
   "metadata": {},
   "source": [
    "## 25. WORKING WITH CSV DATA AND THE PANDAS LIBRARY ##"
   ]
  },
  {
   "cell_type": "code",
   "execution_count": null,
   "id": "ff56de20",
   "metadata": {},
   "outputs": [],
   "source": [
    "import csv # Library to work with CSV data\n",
    "import pandas# CSV data library (pandas.pydata.org)\n",
    "from pprint import pprint\n",
    "# with open(\"sample_csv_file.csv\") as file:\n",
    "#     data = csv.reader(file)\n",
    "    # for row in data: # Each row is a list of the row values (headers included)\n",
    "    #     print(row)\n",
    "    # temperatures = []\n",
    "    # for row in data:\n",
    "    #     if row[1] != \"temp\":\n",
    "    #         temperatures.append(int(row[1]))\n",
    "    # print(temperatures) # This is too much work\n",
    "\n",
    "# READ FULL DATAFRAME\n",
    "data = pandas.read_csv(\"sample_csv_file.csv\") # Gets all the table (DataFrame)\n",
    "# pprint(data[\"temp\"]) # Prints the whole \"day\" column (Series)\n",
    "temp_list = data[\"temp\"].to_list() # Convert Series to list (Series is NOT the same as list)\n",
    "# pprint(temp_list)\n",
    "avg_temp = sum(temp_list) / len(temp_list)\n",
    "avg_temp = data[\"temp\"].mean()\n",
    "max_temp = data[\"temp\"].max()\n",
    "# print(max_temp)\n",
    "\n",
    "data_dict = data.to_dict() #Converts dataframe to dict\n",
    "# pprint(data_dict)\n",
    "\n",
    "# GET FULL COLUMN WITH . NOTATION\n",
    "condition = data.condition\n",
    "# print(condition)\n",
    "\n",
    "# GET DATA ROW\n",
    "monday_row = data[data.day == \"Monday\"]\n",
    "max_temp_row = data[data.temp == data.temp.max()]\n",
    "# print(max_temp_row)\n",
    "\n",
    "monday = data[data.day == \"Monday\"]\n",
    "# print(monday.temp -2)\n",
    "\n",
    "# CREATE DATAFRAME\n",
    "data_dict = {\n",
    "    \"runners\": [\"Lucy\", \"Becca\", \"David\"],\n",
    "    \"type\": [\"Netrunner\", \"Solo\", \"Solo\"]\n",
    "}\n",
    "\n",
    "data = pandas.DataFrame(data_dict)\n",
    "data.to_csv(\"edgerunners.csv\") # Write DataFramet to CSV file in same directory\n",
    "print(data)"
   ]
  },
  {
   "cell_type": "markdown",
   "id": "2b65cc77",
   "metadata": {},
   "source": [
    "## 26. LIST AND DICTIONARY COMPREHENSION ##"
   ]
  },
  {
   "cell_type": "markdown",
   "id": "a78c2f58",
   "metadata": {},
   "source": [
    "List comprehension is creating a list from a pre-existing list."
   ]
  },
  {
   "cell_type": "code",
   "execution_count": null,
   "id": "5f093f03",
   "metadata": {},
   "outputs": [],
   "source": [
    "odd_numbers = [1, 3, 5, 7, 9]\n",
    "even_numbers = [num + 1 for num in odd_numbers]\n",
    "print(even_numbers)\n",
    "\n",
    "# This works with any iterable\n",
    "name =\"James\"\n",
    "name_list = [letter for letter in name]\n",
    "print(name_list)\n",
    "numbers = [num * 2 for num in range(1,5)]\n",
    "print(numbers)\n",
    "\n",
    "# List comprehension can also take conditional statements\n",
    "numbers = [1, 2, 3, 4, 5, 6, 7, 8, 9, 10]\n",
    "even_numbers = [num for num in numbers if num % 2 == 0]\n",
    "print(even_numbers)"
   ]
  },
  {
   "cell_type": "markdown",
   "id": "f81022c1",
   "metadata": {},
   "source": [
    "Dictionary comprehention allows to create a new dict form the values in a pre-existing dictionary or list."
   ]
  },
  {
   "cell_type": "code",
   "execution_count": null,
   "id": "82c28aed",
   "metadata": {},
   "outputs": [],
   "source": [
    "names = [\"Lucy\", \"Becca\", \"David\"]\n",
    "weapons = [\"Monowire\", \"Gutz\", \"Gorilla arms\"]\n",
    "\n",
    "characters = {key: weapons[names.index(key)] for key in names}\n",
    "pprint(characters)\n",
    "\n",
    "is_alive = {key: value for (key, value) in characters.items() if value == \"Monowire\"}\n",
    "pprint(is_alive)"
   ]
  },
  {
   "cell_type": "markdown",
   "id": "64b50362",
   "metadata": {},
   "source": [
    "It's also possible to iterate through pandas dataframes."
   ]
  },
  {
   "cell_type": "code",
   "execution_count": null,
   "id": "7ebea2e2",
   "metadata": {},
   "outputs": [],
   "source": [
    "data = pandas.read_csv(\"sample_csv_file.csv\")\n",
    "# pprint(data)\n",
    "\n",
    "for (index, row) in data.iterrows():\n",
    "    print(row.names)"
   ]
  },
  {
   "cell_type": "markdown",
   "id": "2c71027b",
   "metadata": {},
   "source": [
    "## 27. TKINTER, *ARGS, **KWARGS AND CREATING GUI PROGRAMS ##"
   ]
  },
  {
   "cell_type": "markdown",
   "id": "862881be",
   "metadata": {},
   "source": [
    "GUI (Graphical User Interface) is a big deal since back in the day everything had to be done through a terminal.\n",
    "Tkinter is the library we'll be using for this."
   ]
  },
  {
   "cell_type": "code",
   "execution_count": null,
   "id": "0b082ef7",
   "metadata": {},
   "outputs": [],
   "source": [
    "import tkinter\n",
    "\n",
    "window = tkinter.Tk()\n",
    "window.title(\"My first GUI program\") # Sets the window title\n",
    "window.minsize(width=500, height=300) # Sets the widrth and height of the window (in pixels)\n",
    "\n",
    "# Label\n",
    "my_label = tkinter.Label(text=\"AVATAR\", font=(\"Papyrus\", 24, \"bold\")) # Create a label component and define its characteristics\n",
    "my_label.pack(side=\"left\")\n",
    "\n",
    "window.mainloop() # This line MUST always be at the end of the program."
   ]
  },
  {
   "cell_type": "markdown",
   "id": "8cbdbde6",
   "metadata": {},
   "source": [
    "Advance python arguments.\n",
    "\n",
    "Keyword arguments: `def my_function(a=1, b=2, c=3)` assigning default values to optional parameters."
   ]
  },
  {
   "cell_type": "markdown",
   "id": "d1b549b0",
   "metadata": {},
   "source": [
    "Unlimited positional arguments (*args)\n",
    "```\n",
    "def add(*args):\n",
    "    for n in args:\n",
    "        print(n)\n",
    "```"
   ]
  },
  {
   "cell_type": "code",
   "execution_count": null,
   "id": "624ecf2b",
   "metadata": {},
   "outputs": [],
   "source": [
    "def add(*args): # This allows for unlimited arguments (\"args\" can be changed to anything, the only important character is the *)\n",
    "    print(args)\n",
    "    print(sum(args))\n",
    "\n",
    "add(1, 2, 3, 4)"
   ]
  },
  {
   "cell_type": "markdown",
   "id": "df81c8ff",
   "metadata": {},
   "source": [
    "Unlimited keyword arguments (n, *kwargs)"
   ]
  },
  {
   "cell_type": "code",
   "execution_count": null,
   "id": "e5b758c4",
   "metadata": {},
   "outputs": [],
   "source": [
    "def calculate(n, **kwargs):\n",
    "    print(kwargs) # kwargs is a dictionary with all the kwargs passed in the funciton call\n",
    "    n += kwargs[\"add\"]\n",
    "    n *= kwargs[\"multiply\"]\n",
    "    print(n)\n",
    "\n",
    "calculate(2, add=3, multiply=5)"
   ]
  },
  {
   "cell_type": "code",
   "execution_count": null,
   "id": "52ffd065",
   "metadata": {},
   "outputs": [],
   "source": [
    "class Car:\n",
    "    def __init__(self, **kwargs):\n",
    "        self.make = kwargs.get(\"make\")\n",
    "        # self.model = kwargs[\"model\"] # If make is specified but model isn't, this will return an error\n",
    "        self.model = kwargs.get(\"model\") # If make is specidied but model isn't, this won't return anything (None)\n",
    "        self.color = kwargs.get(\"color\")\n",
    "        self.seats = kwargs.get(\"seats\")\n",
    "\n",
    "my_car = Car(make=\"Nissan\", model=\"GT-R32\")\n",
    "print(my_car.model)"
   ]
  },
  {
   "cell_type": "code",
   "execution_count": null,
   "id": "66470271",
   "metadata": {},
   "outputs": [],
   "source": [
    "import tkinter\n",
    "\n",
    "window = tkinter.Tk()\n",
    "window.title(\"My first GUI program\") # Sets the window title\n",
    "window.minsize(width=500, height=300) # Sets the widrth and height of the window (in pixels)\n",
    "\n",
    "# Label\n",
    "my_label = tkinter.Label(text=\"AVATAR\", font=(\"Papyrus\", 24, \"bold\")) # Create a label component and define its characteristics\n",
    "my_label.pack()\n",
    "my_label.config(text=\"Avatar: The last airbender\")\n",
    "\n",
    "# Button\n",
    "def button_clicked(): # Action triggered by clicking button\n",
    "    text = entry.get()\n",
    "    if text != \"\":\n",
    "        my_label.config(text=text) # Changes my_label text to \"button clicked\"\n",
    "    else:\n",
    "        my_label.config(text=\"Write something\")\n",
    "\n",
    "button = tkinter.Button(text=\"Click me\", command=button_clicked)\n",
    "button.pack()\n",
    "\n",
    "# Entry\n",
    "entry = tkinter.Entry(width=25)\n",
    "entry.insert(index=0, string = \"Some text to begin with\") # Give some predetermined text\n",
    "entry.pack()\n",
    "\n",
    "# Text box\n",
    "text = tkinter.Text(height=5, width=30)\n",
    "text.focus() # Puts cursor in text box\n",
    "text.insert(\"1.0\", \"Example of multi-line text entry\")\n",
    "text.pack()\n",
    "\n",
    "# Spinbox\n",
    "def spinbox_used():\n",
    "    print(spinbox.get())\n",
    "\n",
    "spinbox = tkinter.Spinbox(from_=0, to=10, width=5, command=spinbox_used)\n",
    "spinbox.pack()\n",
    "\n",
    "# Scale\n",
    "def scale_used(value):\n",
    "    print(value)\n",
    "\n",
    "scale = tkinter.Scale(from_=0, to=100, command=scale_used)\n",
    "scale.pack()\n",
    "\n",
    "# Checkbox\n",
    "def checkbox_used():\n",
    "    print(check_state.get())\n",
    "\n",
    "check_state = tkinter.IntVar() # Variable to hold on to check state, 0 = off / 1 = on\n",
    "checkbox = tkinter.Checkbutton(text=\"Is on?\", variable=check_state, command=checkbox_used)\n",
    "check_state.get()\n",
    "checkbox.pack()\n",
    "\n",
    "# Radio button\n",
    "def radio_used():\n",
    "    print(radio_state.get())\n",
    "\n",
    "radio_state = tkinter.IntVar()\n",
    "radio_button_1 = tkinter.Radiobutton(text=\"Option 1\", value=1, variable=radio_state, command=radio_used)\n",
    "radio_button_2 = tkinter.Radiobutton(text=\"Option 2\", value=2, variable=radio_state, command=radio_used)\n",
    "radio_button_1.pack()\n",
    "radio_button_2.pack()\n",
    "\n",
    "# Listbox\n",
    "def listbox_used(event):\n",
    "    print(listbox.get(listbox.curselection()))\n",
    "\n",
    "listbox = tkinter.Listbox(height=4)\n",
    "fruits = [\"Strawberry\", \"Banana\", \"Kiwi\", \"Orange\"]\n",
    "\n",
    "for item in fruits:\n",
    "    listbox.insert(fruits.index(item), item)\n",
    "listbox.bind(\"<<ListboxSelect>>\", listbox_used) # Callback to the listbox_used function\n",
    "listbox.pack()\n",
    "\n",
    "window.mainloop() # This line MUST always be at the end of the program."
   ]
  },
  {
   "cell_type": "markdown",
   "id": "b90653f1",
   "metadata": {},
   "source": [
    "Tkinter has 3 main methods of placing widgets on the window:\n",
    "* Pack (generic and vague)\n",
    "* Place (precice, based on x, y coordinates)\n",
    "* Grid (based on a grid schema) BEST OPTION"
   ]
  },
  {
   "cell_type": "code",
   "execution_count": null,
   "id": "c9528326",
   "metadata": {},
   "outputs": [],
   "source": [
    "import tkinter\n",
    "\n",
    "window = tkinter.Tk()\n",
    "window.title(\"My first GUI program\") # Sets the window title\n",
    "window.minsize(width=500, height=300) # Sets the widrth and height of the window (in pixels)\n",
    "window.config(padx=20, pady=20) # Add padding\n",
    "\n",
    "# Label\n",
    "my_label = tkinter.Label(text=\"AVATAR\", font=(\"Papyrus\", 24, \"bold\")) # Create a label component and define its characteristics\n",
    "my_label.grid(column=0, row=0) # Will place the label to the left (not very precise)\n",
    "my_label.config(text=\"Avatar: The last airbender\", padx=50, pady=50)\n",
    "\n",
    "# Button\n",
    "def button_clicked(): # Action triggered by clicking button\n",
    "    text = entry.get()\n",
    "    if text != \"\":\n",
    "        my_label.config(text=text) # Changes my_label text to \"button clicked\"\n",
    "    else:\n",
    "        my_label.config(text=\"Write something\")\n",
    "\n",
    "button = tkinter.Button(text=\"Click me\", command=button_clicked)\n",
    "button.grid(column=1, row=1)\n",
    "\n",
    "# Entry\n",
    "entry = tkinter.Entry(width=25)\n",
    "entry.insert(index=0, string = \"Some text to begin with\") # Give some predetermined text\n",
    "entry.grid(column=2, row=2)\n",
    "\n",
    "window.mainloop() # This line MUST always be at the end of the program."
   ]
  },
  {
   "cell_type": "markdown",
   "id": "1ce01d2c",
   "metadata": {},
   "source": [
    "## 28. TKINTER AND DYNAMIC TYPING ##"
   ]
  },
  {
   "cell_type": "code",
   "execution_count": null,
   "id": "c081e7e0",
   "metadata": {},
   "outputs": [],
   "source": [
    "from tkinter import * \n",
    "WORK = 25\n",
    "BREAK = 5\n",
    "LONG_BREAK = 20\n",
    "\n",
    "window = Tk()\n",
    "canvas  = Canvas(width=500, height=300)\n",
    "img = PhotoImage(file=\"/Users/Mr.Coffeeman/Downloads/skyline1.png\", width=500, height=300)\n",
    "canvas.create_image(250, 150, image=img)\n",
    "canvas.create_text(250, 150, text=\"00:00\", fill=\"white\", font=(\"Arial\", 50 ,\"bold\"))\n",
    "canvas.pack()\n",
    "window.mainloop()"
   ]
  },
  {
   "cell_type": "markdown",
   "id": "52be9ab5",
   "metadata": {},
   "source": [
    "## 30. ERRORS, EXCEPTIONS AND JSON DATA ##"
   ]
  },
  {
   "cell_type": "code",
   "execution_count": null,
   "id": "84e8ac38",
   "metadata": {},
   "outputs": [],
   "source": [
    "# FileNotFoundError\n",
    "# with open(\"saample_file.txt\", \"r\") as file:\n",
    "#     data = file.read()\n",
    "# print(data)\n",
    "\n",
    "# KeyError\n",
    "# a_dict = {\"key\": \"value\"}\n",
    "# print(a_dict[\"keyy\"])\n",
    "\n",
    "# IndexError\n",
    "# a_list = [1, 2]\n",
    "# print(a_list[2])\n",
    "\n",
    "# TypeError\n",
    "# text = \"abc\"\n",
    "# print(text + 5)"
   ]
  },
  {
   "cell_type": "markdown",
   "id": "b5f99acf",
   "metadata": {},
   "source": [
    "These types of errors above can be caught and handled."
   ]
  },
  {
   "cell_type": "code",
   "execution_count": null,
   "id": "cbf6bdd3",
   "metadata": {},
   "outputs": [],
   "source": [
    "filename = \"a_file.txt\"\n",
    "\n",
    "try: # Try something that MIGHT cause an exception\n",
    "    with open(filename, \"r\") as file:\n",
    "        data = file.read()\n",
    "    a_dict = {\"text\": data}\n",
    "    print(a_dict[\"text\"])\n",
    "\n",
    "except FileNotFoundError: # Do this if there WAS an exception\n",
    "    with open(filename, \"w\") as file:\n",
    "        file.write(\"This is a newly created text file.\")\n",
    "\n",
    "except KeyError as err:\n",
    "    print(f\"Key {err} doesn't exist\")\n",
    "\n",
    "else: # Do this if there were NO exceptions\n",
    "    with open(filename, \"r\") as file:\n",
    "        data = file.read()\n",
    "        print(data)\n",
    "finally: # Do this no mater what happens (not often used)\n",
    "    print(\"File was closed.\")"
   ]
  },
  {
   "cell_type": "markdown",
   "id": "2b9f3da7",
   "metadata": {},
   "source": [
    "It's also possible to raise custom exceptions."
   ]
  },
  {
   "cell_type": "code",
   "execution_count": null,
   "id": "d5079c97",
   "metadata": {},
   "outputs": [],
   "source": [
    "height = 4\n",
    "weight = 120\n",
    "\n",
    "if height > 3:\n",
    "    raise ValueError(\"Height can't be greated than 3.\")\n",
    "\n",
    "bmi = weight / height ** 2\n",
    "print(bmi)"
   ]
  },
  {
   "cell_type": "markdown",
   "id": "88dd43cb",
   "metadata": {},
   "source": [
    "JSON is a data structure like a dictionary.  \n",
    "Python has a json library to work with json data."
   ]
  },
  {
   "cell_type": "code",
   "execution_count": null,
   "id": "b6a77829",
   "metadata": {},
   "outputs": [],
   "source": [
    "import json\n",
    "filename = \"edgerunners.json\"\n",
    "character = {\n",
    "    \"Maine\": {\n",
    "        \"sex\": \"male\",\n",
    "        \"age\": 28,\n",
    "        \"type\": \"solo\"\n",
    "    }\n",
    "}\n",
    "with open(filename, \"r\") as file:\n",
    "    # json.dump(character, file, indent=4) # Write data to json\n",
    "    data = json.load(file) # Read json data\n",
    "    # print(data)\n",
    "    data.update(character) # Update json data with character dict\n",
    "    # print(data)\n",
    "\n",
    "with open(filename, \"w\") as file:\n",
    "    json.dump(data, file, indent=4)"
   ]
  },
  {
   "cell_type": "markdown",
   "id": "5d9b2baf",
   "metadata": {},
   "source": [
    "## 32. SEND EMAILS (SMTPLIB) AND MANAGE DATES (DATETIME) ##"
   ]
  },
  {
   "cell_type": "markdown",
   "id": "fbd5f6bb",
   "metadata": {},
   "source": [
    "When sending an email what happens is the email is sent from the recipient to the provider's email server (let's say Google) and then to the recipient's server (let's say yahoo). This is done using the SMTP protocol. "
   ]
  },
  {
   "cell_type": "code",
   "execution_count": null,
   "id": "f9ae81cc",
   "metadata": {},
   "outputs": [],
   "source": [
    "import smtplib\n",
    "\n",
    "my_email = \"test.akkount90@gmail.com\"\n",
    "password = \"rltcrvsdmlqenodn\"\n",
    "\n",
    "with smtplib.SMTP(\"smtp.gmail.com\") as connection:\n",
    "\n",
    "    connection.starttls() # Start Transport Layer Security (TLS) to encrypt the connection\n",
    "    connection.login(user=my_email, password=password)\n",
    "    connection.sendmail(\n",
    "        from_addr=my_email, \n",
    "        to_addrs=\"vladd.hagiu@gmail.com\", \n",
    "        msg=\"Subject: Test Subject\\n\\nHello\"\n",
    "    )"
   ]
  },
  {
   "cell_type": "markdown",
   "id": "7a782a0b",
   "metadata": {},
   "source": [
    "Datetime is a python module that allows to easily work with dates and time."
   ]
  },
  {
   "cell_type": "code",
   "execution_count": null,
   "id": "164640aa",
   "metadata": {},
   "outputs": [],
   "source": [
    "import datetime as dt\n",
    "\n",
    "now = dt.datetime.now()\n",
    "year = now.year\n",
    "month = now.month\n",
    "day = now.day\n",
    "hour = now.hour\n",
    "minute = now.minute\n",
    "second = now.second\n",
    "microseconds = now.microsecond\n",
    "\n",
    "weekday = now.weekday() # The number of the day of the week (from 0 to 6)\n",
    "\n",
    "birth_date = dt.datetime(year=1997, month=1, day=21, hour=5, minute=50)\n",
    "print(birth_date)"
   ]
  },
  {
   "cell_type": "markdown",
   "id": "0eb9edbf",
   "metadata": {},
   "source": [
    "## 33. API ENDPOINTS AND API PARAMETERS ##"
   ]
  },
  {
   "cell_type": "markdown",
   "id": "7e9b25e7",
   "metadata": {},
   "source": [
    "Application Programing Interface is how different applications are able to comunicate with eachother. Picture a restaurant. In order for you (app 1) to get food from the kitchen (app 2), you have to talk to the waiter (API)."
   ]
  },
  {
   "cell_type": "code",
   "execution_count": null,
   "id": "8feea462",
   "metadata": {},
   "outputs": [],
   "source": [
    "import requests # Allows to make HTTP requests\n",
    "from pprint import pprint\n",
    "response = requests.get(url=\"http://api.open-notify.org/iss-now.json\")\n",
    "print(response) # Prints response code (1XX: Something went wrong, 2XX: All good, 3XX: You don't have permission, 4XX: User error, 5XX: Server error)\n",
    "print(response.status_code) # Prints ONLY the status code\n",
    "\n",
    "response.raise_for_status() # Automatically raises exception in case of errors\n",
    " \n",
    "data = response.json() # Actial data in json/dict format\n",
    "pprint(data[\"message\"])"
   ]
  },
  {
   "cell_type": "markdown",
   "id": "b5ca32b8",
   "metadata": {},
   "source": [
    "APIs can take parameters.\n",
    "Also, you might get some HTML-specific weird characters like &quot;. These can be fixed with html.unescape(-Include the response here-)"
   ]
  },
  {
   "cell_type": "markdown",
   "id": "f1eb9f8a",
   "metadata": {},
   "source": [
    "## 35. KEYS, AUTHENTICATION AND ENVIRONMENT VARIABLES ##"
   ]
  },
  {
   "cell_type": "markdown",
   "id": "7036301e",
   "metadata": {},
   "source": [
    "With most APIs, you need to authenticate with a unique key assidned to your user.  \n",
    "Environment variables are hidden variables where sensitive data can be stored for convenience and security.  \n",
    "In VSCode you can create and environment variable by opening a terminal and running the following code:  \n",
    "`export VARIABLE_NAME=variable_value`  \n",
    "Although this environment variable will disappear eventually. To create a permanent environment variable the  \n",
    "best approach is creating a .env file in the same directory and write there the environment variables. Then  \n",
    "in the script use this code:  \n",
    "```\n",
    "import os\n",
    "from dotenv import load_dotenv\n",
    "load_dotenv()\n",
    "env_variable = os.get(\"ENV_VARIABLE_NAME\")\n",
    "```"
   ]
  },
  {
   "cell_type": "markdown",
   "id": "a4884ad8",
   "metadata": {},
   "source": [
    "## 37. API POST REQUESTS AND HEADERS ##"
   ]
  },
  {
   "cell_type": "markdown",
   "id": "b7acecbf",
   "metadata": {},
   "source": [
    "APIs can also be used to write, update or delete data, not only getting data. This is done using the POST PUT and DELETE HTTP methods:\n",
    "* POST: Write new data with requests.post()\n",
    "* PUT: Update existing data with requests.put()\n",
    "* DELETE: Delete existing data with requests.delete()"
   ]
  },
  {
   "cell_type": "code",
   "execution_count": null,
   "id": "f6e49d24",
   "metadata": {},
   "outputs": [],
   "source": [
    "import requests\n",
    "api_url = \"api_url\"\n",
    "\n",
    "parameters = { # This is how parameters are passed in API calls in most cases\n",
    "    \"param1\": \"value1\",\n",
    "    \"param2\": \"value2\"\n",
    "}\n",
    "\n",
    "response = requests.post(url=api_url, params=parameters)\n",
    "print(response.text) # Prints response as plain text"
   ]
  },
  {
   "cell_type": "markdown",
   "id": "05104ca7",
   "metadata": {},
   "source": [
    "Sometimes the request needs headers. "
   ]
  },
  {
   "cell_type": "code",
   "execution_count": null,
   "id": "bb0e589f",
   "metadata": {},
   "outputs": [],
   "source": [
    "username = \"username\"\n",
    "password = \"password\"\n",
    "endpoint = \"heet://something.com\"\n",
    "\n",
    "params = {\n",
    "    \"param1\": \"value1\",\n",
    "    \"param2\": \"value2\",\n",
    "    \"param3\": \"value3\"\n",
    "}\n",
    "\n",
    "final_endpoint = f\"{endpoint}/{username}/something\"\n",
    "\n",
    "final_config = {\n",
    "    \"id\": \"some id\",\n",
    "    \"name\": \"some name\",\n",
    "    \"unit\": \"some unit\",\n",
    "    \"type\": \"some type\",\n",
    "    \"color\": \"some color\"\n",
    "}\n",
    "\n",
    "headers= {\"header1\": \"value1\"} # Some APIs will require headers and this is how they're passed\n",
    "\n",
    "requests.post(url=final_endpoint, json=final_config, headers=headers) # This could easily be a requests.put() or requests.delete() operation"
   ]
  },
  {
   "cell_type": "markdown",
   "id": "d17a6c71",
   "metadata": {},
   "source": [
    "## 70. GIT, GITHUB AND VERSION CONTROL ##"
   ]
  },
  {
   "cell_type": "markdown",
   "id": "ef5229bf",
   "metadata": {},
   "source": [
    "Version control.\n",
    "Let's say I have a file.txt and want to put it under version control and make a save point.\n",
    "The i add some text and create a second save point.\n",
    "But then I keep witing ans screw it up and I wanna rollback to my previous save point (or to another previous save point)"
   ]
  },
  {
   "cell_type": "markdown",
   "id": "2e467982",
   "metadata": {
    "vscode": {
     "languageId": "shellscript"
    }
   },
   "source": [
    "Assuming you're in the directory where the project is:  \n",
    "`git init`  \n",
    "This initializes a git repository in the current directory  \n",
    "\n",
    "In order to keep track of files, they must be added to a \"staging area\".  \n",
    "To see what's in the staging area you can use:  \n",
    "`git status`  \n",
    "\n",
    "To add files to this staging area you have to use:  \n",
    "`git add <filename>`  \n",
    "`git commit -m \"commit message\"`  \n",
    "This creates a new save point. -m allows to include a commit message detailing the changes made.  \n",
    "`git add . -m \"commit message\"` with the \".\", all files in the current directory will be added to the staging area.\n",
    "\n",
    "You can see the commits made using:\n",
    "`git log`  \n",
    "Each commit has a hash which can be used for rollbacks."
   ]
  },
  {
   "cell_type": "markdown",
   "id": "61ff8a4b",
   "metadata": {},
   "source": [
    "So this basically creates a git repository (.git file) in your working directory, that will keep track of the changes between the working directory and the local repository.  \n",
    "You create a file in the directory and you add it to the staging area.   \n",
    "Sometimes you don't want all of the files to be tracked and commited. The staging area is a good place to figure out which files you want tracked and which ones you want to ignore.  \n",
    "`git add` adds files to the staging area, and once you're sure which files you wanna commit, `git commit` adds those files to the local gir repository.  \n",
    "`git checkout <filename>` reverts the file to the last version commited.  \n",
    "`git diff <filename>` will show the changes between the current version and the last commit.  \n"
   ]
  },
  {
   "cell_type": "markdown",
   "id": "f9270983",
   "metadata": {},
   "source": [
    "Repositories can also be hosted in remote servers, not just locally.\n",
    "\n",
    "`git remote add origin <github_repo_url>`: creates a remote depository in Github\n",
    "`git push -u <remote_name> <branch name>`: pushes locar repo to the remote repo linking your local and remote repos.\n",
    "`git push origin main`: Push towars the remote origin to the branch \"main\" which is the default branch of your commits."
   ]
  }
 ],
 "metadata": {
  "kernelspec": {
   "display_name": ".venv",
   "language": "python",
   "name": "python3"
  },
  "language_info": {
   "codemirror_mode": {
    "name": "ipython",
    "version": 3
   },
   "file_extension": ".py",
   "mimetype": "text/x-python",
   "name": "python",
   "nbconvert_exporter": "python",
   "pygments_lexer": "ipython3",
   "version": "3.13.3"
  }
 },
 "nbformat": 4,
 "nbformat_minor": 5
}
